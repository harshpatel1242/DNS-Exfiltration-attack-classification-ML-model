{
 "cells": [
  {
   "cell_type": "code",
   "execution_count": 1,
   "id": "d7f5cb35",
   "metadata": {},
   "outputs": [],
   "source": [
    "from kafka import KafkaConsumer\n",
    "import pandas as pd\n",
    "import pickle\n",
    "from sklearn.metrics import accuracy_score,recall_score,precision_score, f1_score\n",
    "import warnings\n",
    "warnings.simplefilter(\"ignore\")"
   ]
  },
  {
   "cell_type": "code",
   "execution_count": 2,
   "id": "3dc557cd",
   "metadata": {},
   "outputs": [],
   "source": [
    "consumer = KafkaConsumer(\n",
    "    'ml-raw-dns',\n",
    "    bootstrap_servers=\"localhost:9092\",\n",
    "    auto_offset_reset='earliest',\n",
    "    enable_auto_commit=False\n",
    ")"
   ]
  },
  {
   "cell_type": "code",
   "execution_count": 3,
   "id": "894b1857",
   "metadata": {},
   "outputs": [],
   "source": [
    "model = pickle.load(open('gb_model.pkl', 'rb'))\n",
    "dynamic_model = pickle.load(open('gb_model.pkl', 'rb'))\n",
    "scaler = pickle.load(open('scaler.pkl','rb'))\n",
    "le = pickle.load(open('la.pkl','rb'))"
   ]
  },
  {
   "cell_type": "code",
   "execution_count": 4,
   "id": "ff6fe393",
   "metadata": {},
   "outputs": [],
   "source": [
    "df = pd.DataFrame(columns = ['timestamp', 'FQDN_count', 'subdomain_length', 'upper', 'lower', 'numeric',\n",
    "                             'entropy', 'special', 'labels', 'labels_max', 'labels_average', 'longest_word', 'sld',\n",
    "                             'len','subdomain','Target Attack'])\n",
    "n_df = pd.DataFrame(columns =['labels','labels_average','labels_max','len','numeric','special','subdomain','subdomain_length'])\n",
    "Y_df = pd.DataFrame(columns = ['Target Attack'])"
   ]
  },
  {
   "cell_type": "code",
   "execution_count": 10,
   "id": "f287b145",
   "metadata": {},
   "outputs": [
    {
     "name": "stdout",
     "output_type": "stream",
     "text": [
      "F1 Score : 0.8510805500982318\n",
      "F1 Score : 0.8489096573208723\n",
      "F1 Score : 0.8589243959469992\n",
      "F1 Score : 0.8522012578616351\n",
      "F1 Score : 0.8617760617760618\n",
      "F1 Score : 0.8491171749598716\n",
      "F1 Score : 0.8465116279069768\n",
      "F1 Score : 0.8633962264150943\n",
      "F1 Score : 0.8457321848081442\n",
      "F1 Score : 0.8353609083536092\n",
      "F1 Score : 0.8481421647819064\n",
      "F1 Score : 0.86741214057508\n",
      "F1 Score : 0.8441971383147855\n",
      "F1 Score : 0.8619374523264683\n",
      "F1 Score : 0.8692247454972593\n",
      "F1 Score : 0.8575899843505478\n",
      "F1 Score : 0.8507936507936508\n",
      "F1 Score : 0.8493364558938329\n",
      "F1 Score : 0.8603773584905661\n",
      "F1 Score : 0.8547140649149924\n",
      "F1 Score : 0.8532695374800637\n",
      "F1 Score : 0.8493788819875777\n",
      "F1 Score : 0.8494453248811411\n",
      "F1 Score : 0.852963818321786\n",
      "F1 Score : 0.8644578313253013\n",
      "F1 Score : 0.8616352201257861\n",
      "F1 Score : 0.8596078431372548\n",
      "F1 Score : 0.8522012578616351\n",
      "F1 Score : 0.8397790055248618\n",
      "F1 Score : 0.8553557466770916\n",
      "F1 Score : 0.8393700787401576\n",
      "F1 Score : 0.8559935639581656\n",
      "F1 Score : 0.847405112316034\n",
      "F1 Score : 0.8397435897435898\n",
      "F1 Score : 0.8617265087853323\n",
      "F1 Score : 0.8813559322033898\n",
      "F1 Score : 0.874141876430206\n",
      "F1 Score : 0.851063829787234\n",
      "F1 Score : 0.8452950558213715\n",
      "F1 Score : 0.8498054474708171\n",
      "F1 Score : 0.8547008547008548\n",
      "F1 Score : 0.8425135764158262\n",
      "F1 Score : 0.8566953797963978\n",
      "F1 Score : 0.8626198083067094\n",
      "F1 Score : 0.8465116279069768\n",
      "F1 Score : 0.8551617873651771\n",
      "F1 Score : 0.857805255023184\n",
      "F1 Score : 0.8618784530386739\n",
      "F1 Score : 0.8639876352395671\n"
     ]
    }
   ],
   "source": [
    "list_of_f1_gb = []\n",
    "numeric_col = [1,2,3,4,5,6,7,8,9,10,13,14]\n",
    "for i,m in enumerate(consumer):\n",
    "            break\n",
    "        col = str(m.value,'utf-8').replace('\\\\n','').replace('\"','').split(',')\n",
    "        if i ==0:\n",
    "            continue\n",
    "        for j in numeric_col:\n",
    "            col[j] = float(col[j])\n",
    "        df.loc[len(df.index)] = col\n",
    "\n",
    "        if i % 1000==0:\n",
    "            X = df.drop(['Target Attack'],axis=1)\n",
    "            Y = df['Target Attack']\n",
    "            X.drop(['timestamp','longest_word','sld'],axis=1,inplace=True)\n",
    "\n",
    "            X[X.columns] = scaler.transform(X)\n",
    "            X = X.filter(['labels','labels_average','labels_max','len','numeric','special','subdomain','subdomain_length'])\n",
    "\n",
    "            n_df = n_df.append(X)\n",
    "            Y_df = Y_df.append(Y)\n",
    "            test_pred = model.predict(X)\n",
    "            Y_test = Y.astype(int)\n",
    "\n",
    "            test_pred = model.predict(X)\n",
    "\n",
    "            f1 = f1_score(Y_test, test_pred)\n",
    "            print('F1 Score : ' + str(f1))\n",
    "            df = pd.DataFrame(columns = ['timestamp', 'FQDN_count', 'subdomain_length', 'upper', 'lower', 'numeric',\n",
    "                                'entropy', 'special', 'labels', 'labels_max', 'labels_average', 'longest_word', 'sld',\n",
    "                                'len','subdomain','Target Attack'])\n",
    "            list_of_f1_gb.append(float(f1))\n",
    "            if n_df.isnull().any(axis=None) or Y_df.isnull().any(axis=None):\n",
    "                continue  #checking NAN rows are preocessing or  not \n",
    "            if f1 < 0.83:\n",
    "\n",
    "                    scaler.fit(n_df)\n",
    "                    n_df[n_df.columns] = scaler.transform(n_df)\n",
    "                    n_df.dropna(axis=1,inplace=True)\n",
    "                    Y_df = Y_df[n_df.index]\n",
    "                    model = model.fit(n_df,Y_df)\n",
    "                    print(\"Hurray model Trained\")\n",
    "                    n_df = pd.DataFrame(columns =['FQDN_count', 'subdomain_length', 'upper', 'lower', 'numeric', 'entropy', 'special', 'labels', 'labels_max', 'labels_average', 'sld', 'len', 'subdomain'])\n",
    "                    Y_df = pd.DataFrame(columns = ['Target Attack'])"
   ]
  },
  {
   "cell_type": "code",
   "execution_count": 11,
   "id": "3780d47a",
   "metadata": {},
   "outputs": [
    {
     "data": {
      "text/plain": [
       "[0.8510805500982318,\n",
       " 0.8489096573208723,\n",
       " 0.8589243959469992,\n",
       " 0.8522012578616351,\n",
       " 0.8617760617760618,\n",
       " 0.8491171749598716,\n",
       " 0.8465116279069768,\n",
       " 0.8633962264150943,\n",
       " 0.8457321848081442,\n",
       " 0.8353609083536092,\n",
       " 0.8481421647819064,\n",
       " 0.86741214057508,\n",
       " 0.8441971383147855,\n",
       " 0.8619374523264683,\n",
       " 0.8692247454972593,\n",
       " 0.8575899843505478,\n",
       " 0.8507936507936508,\n",
       " 0.8493364558938329,\n",
       " 0.8603773584905661,\n",
       " 0.8547140649149924,\n",
       " 0.8532695374800637,\n",
       " 0.8493788819875777,\n",
       " 0.8494453248811411,\n",
       " 0.852963818321786,\n",
       " 0.8644578313253013,\n",
       " 0.8616352201257861,\n",
       " 0.8596078431372548,\n",
       " 0.8522012578616351,\n",
       " 0.8397790055248618,\n",
       " 0.8553557466770916,\n",
       " 0.8393700787401576,\n",
       " 0.8559935639581656,\n",
       " 0.847405112316034,\n",
       " 0.8397435897435898,\n",
       " 0.8617265087853323,\n",
       " 0.8813559322033898,\n",
       " 0.874141876430206,\n",
       " 0.851063829787234,\n",
       " 0.8452950558213715,\n",
       " 0.8498054474708171,\n",
       " 0.8547008547008548,\n",
       " 0.8425135764158262,\n",
       " 0.8566953797963978,\n",
       " 0.8626198083067094,\n",
       " 0.8465116279069768,\n",
       " 0.8551617873651771,\n",
       " 0.857805255023184,\n",
       " 0.8618784530386739,\n",
       " 0.8639876352395671]"
      ]
     },
     "execution_count": 11,
     "metadata": {},
     "output_type": "execute_result"
    }
   ],
   "source": [
    "list_of_f1_gb"
   ]
  },
  {
   "cell_type": "code",
   "execution_count": 16,
   "id": "7cd9e0e6",
   "metadata": {},
   "outputs": [
    {
     "data": {
      "image/png": "[encoded data removed]",
      "text/plain": [
       "<Figure size 640x480 with 1 Axes>"
      ]
     },
     "metadata": {},
     "output_type": "display_data"
    }
   ],
   "source": [
    "import numpy as np\n",
    "import matplotlib.pyplot as plt\n",
    " \n",
    "plt.title(\"Dynamic model\")\n",
    "plt.xlabel(\"X axis\")\n",
    "plt.ylabel(\"Y axis\")\n",
    "plt.plot(list_of_f1_gb, color =\"Blue\")\n",
    "plt.show()"
   ]
  },
  {
   "cell_type": "code",
   "execution_count": null,
   "id": "c28ecaec",
   "metadata": {},
   "outputs": [],
   "source": []
  }
 ],
 "metadata": {
  "kernelspec": {
   "display_name": "Python 3 (ipykernel)",
   "language": "python",
   "name": "python3"
  },
  "language_info": {
   "codemirror_mode": {
    "name": "ipython",
    "version": 3
   },
   "file_extension": ".py",
   "mimetype": "text/x-python",
   "name": "python",
   "nbconvert_exporter": "python",
   "pygments_lexer": "ipython3",
   "version": "3.8.8"
  }
 },
 "nbformat": 4,
 "nbformat_minor": 5
}
