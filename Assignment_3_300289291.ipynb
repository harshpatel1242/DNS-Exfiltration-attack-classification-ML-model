{
 "cells": [
  {
   "cell_type": "code",
   "execution_count": 1,
   "id": "e6686f6c",
   "metadata": {},
   "outputs": [],
   "source": [
    "import pandas as pd\n",
    "import operator\n",
    "import numpy as np\n",
    "import matplotlib.pyplot as plt\n",
    "import seaborn as sns\n",
    "import warnings\n",
    "warnings.filterwarnings('ignore')\n",
    "from sklearn.metrics import accuracy_score, recall_score, precision_score, f1_score, confusion_matrix\n",
    "from sklearn.ensemble import RandomForestClassifier\n",
    "from sklearn.neighbors import KNeighborsClassifier\n",
    "from sklearn import tree\n",
    "from sklearn.svm import SVC\n",
    "from sklearn.metrics import plot_confusion_matrix\n",
    "from sklearn import metrics\n",
    "from sklearn.preprocessing import MinMaxScaler\n",
    "from imblearn.over_sampling import RandomOverSampler\n",
    "from imblearn.under_sampling import RandomUnderSampler\n",
    "from sklearn.feature_selection import mutual_info_classif\n",
    "from sklearn.model_selection import KFold\n",
    "from imblearn.pipeline import make_pipeline\n",
    "from sklearn.model_selection import cross_val_score\n",
    "from sklearn.model_selection import GridSearchCV\n",
    "from imblearn.over_sampling import SMOTE\n",
    "from sklearn.neural_network import MLPClassifier\n",
    "from sklearn.ensemble import GradientBoostingClassifier\n",
    "from sklearn import preprocessing\n",
    "import Orange\n",
    "from sklearn import preprocessing\n",
    "import pickle"
   ]
  },
  {
   "cell_type": "code",
   "execution_count": 2,
   "id": "ce43d589",
   "metadata": {},
   "outputs": [],
   "source": [
    "df_static = pd.read_csv('Static_dataset.csv')"
   ]
  },
  {
   "cell_type": "code",
   "execution_count": 3,
   "id": "6cab84ac",
   "metadata": {},
   "outputs": [
    {
     "data": {
      "text/html": [
       "<div>\n",
       "<style scoped>\n",
       "    .dataframe tbody tr th:only-of-type {\n",
       "        vertical-align: middle;\n",
       "    }\n",
       "\n",
       "    .dataframe tbody tr th {\n",
       "        vertical-align: top;\n",
       "    }\n",
       "\n",
       "    .dataframe thead th {\n",
       "        text-align: right;\n",
       "    }\n",
       "</style>\n",
       "<table border=\"1\" class=\"dataframe\">\n",
       "  <thead>\n",
       "    <tr style=\"text-align: right;\">\n",
       "      <th></th>\n",
       "      <th>timestamp</th>\n",
       "      <th>FQDN_count</th>\n",
       "      <th>subdomain_length</th>\n",
       "      <th>upper</th>\n",
       "      <th>lower</th>\n",
       "      <th>numeric</th>\n",
       "      <th>entropy</th>\n",
       "      <th>special</th>\n",
       "      <th>labels</th>\n",
       "      <th>labels_max</th>\n",
       "      <th>labels_average</th>\n",
       "      <th>longest_word</th>\n",
       "      <th>sld</th>\n",
       "      <th>len</th>\n",
       "      <th>subdomain</th>\n",
       "      <th>Target Attack</th>\n",
       "    </tr>\n",
       "  </thead>\n",
       "  <tbody>\n",
       "    <tr>\n",
       "      <th>0</th>\n",
       "      <td>56:19.8</td>\n",
       "      <td>27</td>\n",
       "      <td>10</td>\n",
       "      <td>0</td>\n",
       "      <td>10</td>\n",
       "      <td>11</td>\n",
       "      <td>2.570417</td>\n",
       "      <td>6</td>\n",
       "      <td>6</td>\n",
       "      <td>7</td>\n",
       "      <td>3.666667</td>\n",
       "      <td>2</td>\n",
       "      <td>192</td>\n",
       "      <td>14</td>\n",
       "      <td>1</td>\n",
       "      <td>1</td>\n",
       "    </tr>\n",
       "    <tr>\n",
       "      <th>1</th>\n",
       "      <td>07:23.9</td>\n",
       "      <td>27</td>\n",
       "      <td>10</td>\n",
       "      <td>0</td>\n",
       "      <td>10</td>\n",
       "      <td>11</td>\n",
       "      <td>2.767195</td>\n",
       "      <td>6</td>\n",
       "      <td>6</td>\n",
       "      <td>7</td>\n",
       "      <td>3.666667</td>\n",
       "      <td>2</td>\n",
       "      <td>192</td>\n",
       "      <td>14</td>\n",
       "      <td>1</td>\n",
       "      <td>1</td>\n",
       "    </tr>\n",
       "    <tr>\n",
       "      <th>2</th>\n",
       "      <td>23:15.1</td>\n",
       "      <td>26</td>\n",
       "      <td>9</td>\n",
       "      <td>0</td>\n",
       "      <td>10</td>\n",
       "      <td>10</td>\n",
       "      <td>2.742338</td>\n",
       "      <td>6</td>\n",
       "      <td>6</td>\n",
       "      <td>7</td>\n",
       "      <td>3.500000</td>\n",
       "      <td>2</td>\n",
       "      <td>192</td>\n",
       "      <td>13</td>\n",
       "      <td>1</td>\n",
       "      <td>0</td>\n",
       "    </tr>\n",
       "    <tr>\n",
       "      <th>3</th>\n",
       "      <td>04:51.9</td>\n",
       "      <td>27</td>\n",
       "      <td>10</td>\n",
       "      <td>0</td>\n",
       "      <td>10</td>\n",
       "      <td>11</td>\n",
       "      <td>2.570417</td>\n",
       "      <td>6</td>\n",
       "      <td>6</td>\n",
       "      <td>7</td>\n",
       "      <td>3.666667</td>\n",
       "      <td>2</td>\n",
       "      <td>192</td>\n",
       "      <td>14</td>\n",
       "      <td>1</td>\n",
       "      <td>1</td>\n",
       "    </tr>\n",
       "    <tr>\n",
       "      <th>4</th>\n",
       "      <td>12:44.0</td>\n",
       "      <td>15</td>\n",
       "      <td>9</td>\n",
       "      <td>0</td>\n",
       "      <td>11</td>\n",
       "      <td>0</td>\n",
       "      <td>2.929439</td>\n",
       "      <td>4</td>\n",
       "      <td>3</td>\n",
       "      <td>5</td>\n",
       "      <td>4.333333</td>\n",
       "      <td>local</td>\n",
       "      <td>local</td>\n",
       "      <td>15</td>\n",
       "      <td>1</td>\n",
       "      <td>1</td>\n",
       "    </tr>\n",
       "    <tr>\n",
       "      <th>5</th>\n",
       "      <td>16:29.5</td>\n",
       "      <td>27</td>\n",
       "      <td>10</td>\n",
       "      <td>0</td>\n",
       "      <td>10</td>\n",
       "      <td>11</td>\n",
       "      <td>2.570417</td>\n",
       "      <td>6</td>\n",
       "      <td>6</td>\n",
       "      <td>7</td>\n",
       "      <td>3.666667</td>\n",
       "      <td>2</td>\n",
       "      <td>192</td>\n",
       "      <td>14</td>\n",
       "      <td>1</td>\n",
       "      <td>1</td>\n",
       "    </tr>\n",
       "    <tr>\n",
       "      <th>6</th>\n",
       "      <td>26:58.3</td>\n",
       "      <td>23</td>\n",
       "      <td>3</td>\n",
       "      <td>0</td>\n",
       "      <td>20</td>\n",
       "      <td>0</td>\n",
       "      <td>3.568087</td>\n",
       "      <td>3</td>\n",
       "      <td>3</td>\n",
       "      <td>16</td>\n",
       "      <td>7.000000</td>\n",
       "      <td>pforzheim</td>\n",
       "      <td>pforzheim-bisons</td>\n",
       "      <td>20</td>\n",
       "      <td>1</td>\n",
       "      <td>0</td>\n",
       "    </tr>\n",
       "    <tr>\n",
       "      <th>7</th>\n",
       "      <td>57:29.2</td>\n",
       "      <td>24</td>\n",
       "      <td>7</td>\n",
       "      <td>0</td>\n",
       "      <td>10</td>\n",
       "      <td>8</td>\n",
       "      <td>2.054029</td>\n",
       "      <td>6</td>\n",
       "      <td>6</td>\n",
       "      <td>7</td>\n",
       "      <td>3.166667</td>\n",
       "      <td>4</td>\n",
       "      <td>224</td>\n",
       "      <td>11</td>\n",
       "      <td>1</td>\n",
       "      <td>1</td>\n",
       "    </tr>\n",
       "    <tr>\n",
       "      <th>8</th>\n",
       "      <td>27:59.6</td>\n",
       "      <td>14</td>\n",
       "      <td>3</td>\n",
       "      <td>0</td>\n",
       "      <td>12</td>\n",
       "      <td>0</td>\n",
       "      <td>2.514247</td>\n",
       "      <td>2</td>\n",
       "      <td>3</td>\n",
       "      <td>6</td>\n",
       "      <td>4.000000</td>\n",
       "      <td>face</td>\n",
       "      <td>reface</td>\n",
       "      <td>10</td>\n",
       "      <td>1</td>\n",
       "      <td>0</td>\n",
       "    </tr>\n",
       "    <tr>\n",
       "      <th>9</th>\n",
       "      <td>21:27.9</td>\n",
       "      <td>18</td>\n",
       "      <td>0</td>\n",
       "      <td>0</td>\n",
       "      <td>17</td>\n",
       "      <td>0</td>\n",
       "      <td>2.879113</td>\n",
       "      <td>1</td>\n",
       "      <td>2</td>\n",
       "      <td>14</td>\n",
       "      <td>8.500000</td>\n",
       "      <td>store</td>\n",
       "      <td>dellogliostore</td>\n",
       "      <td>15</td>\n",
       "      <td>0</td>\n",
       "      <td>0</td>\n",
       "    </tr>\n",
       "    <tr>\n",
       "      <th>10</th>\n",
       "      <td>09:54.6</td>\n",
       "      <td>24</td>\n",
       "      <td>7</td>\n",
       "      <td>0</td>\n",
       "      <td>10</td>\n",
       "      <td>8</td>\n",
       "      <td>2.054029</td>\n",
       "      <td>6</td>\n",
       "      <td>6</td>\n",
       "      <td>7</td>\n",
       "      <td>3.166667</td>\n",
       "      <td>4</td>\n",
       "      <td>224</td>\n",
       "      <td>11</td>\n",
       "      <td>1</td>\n",
       "      <td>0</td>\n",
       "    </tr>\n",
       "    <tr>\n",
       "      <th>11</th>\n",
       "      <td>40:01.6</td>\n",
       "      <td>21</td>\n",
       "      <td>0</td>\n",
       "      <td>0</td>\n",
       "      <td>19</td>\n",
       "      <td>0</td>\n",
       "      <td>3.451880</td>\n",
       "      <td>2</td>\n",
       "      <td>2</td>\n",
       "      <td>17</td>\n",
       "      <td>10.000000</td>\n",
       "      <td>kate</td>\n",
       "      <td>katekyo-fukushima</td>\n",
       "      <td>18</td>\n",
       "      <td>0</td>\n",
       "      <td>0</td>\n",
       "    </tr>\n",
       "    <tr>\n",
       "      <th>12</th>\n",
       "      <td>50:01.3</td>\n",
       "      <td>24</td>\n",
       "      <td>7</td>\n",
       "      <td>0</td>\n",
       "      <td>10</td>\n",
       "      <td>8</td>\n",
       "      <td>2.054029</td>\n",
       "      <td>6</td>\n",
       "      <td>6</td>\n",
       "      <td>7</td>\n",
       "      <td>3.166667</td>\n",
       "      <td>4</td>\n",
       "      <td>224</td>\n",
       "      <td>11</td>\n",
       "      <td>1</td>\n",
       "      <td>1</td>\n",
       "    </tr>\n",
       "    <tr>\n",
       "      <th>13</th>\n",
       "      <td>17:54.6</td>\n",
       "      <td>24</td>\n",
       "      <td>7</td>\n",
       "      <td>0</td>\n",
       "      <td>10</td>\n",
       "      <td>8</td>\n",
       "      <td>2.054029</td>\n",
       "      <td>6</td>\n",
       "      <td>6</td>\n",
       "      <td>7</td>\n",
       "      <td>3.166667</td>\n",
       "      <td>4</td>\n",
       "      <td>224</td>\n",
       "      <td>11</td>\n",
       "      <td>1</td>\n",
       "      <td>1</td>\n",
       "    </tr>\n",
       "    <tr>\n",
       "      <th>14</th>\n",
       "      <td>37:33.0</td>\n",
       "      <td>10</td>\n",
       "      <td>0</td>\n",
       "      <td>0</td>\n",
       "      <td>9</td>\n",
       "      <td>0</td>\n",
       "      <td>2.625000</td>\n",
       "      <td>1</td>\n",
       "      <td>2</td>\n",
       "      <td>7</td>\n",
       "      <td>4.500000</td>\n",
       "      <td>ter</td>\n",
       "      <td>pfister</td>\n",
       "      <td>8</td>\n",
       "      <td>0</td>\n",
       "      <td>0</td>\n",
       "    </tr>\n",
       "    <tr>\n",
       "      <th>15</th>\n",
       "      <td>54:02.9</td>\n",
       "      <td>9</td>\n",
       "      <td>0</td>\n",
       "      <td>0</td>\n",
       "      <td>8</td>\n",
       "      <td>0</td>\n",
       "      <td>1.820802</td>\n",
       "      <td>1</td>\n",
       "      <td>2</td>\n",
       "      <td>5</td>\n",
       "      <td>4.000000</td>\n",
       "      <td>pit</td>\n",
       "      <td>uppit</td>\n",
       "      <td>6</td>\n",
       "      <td>0</td>\n",
       "      <td>0</td>\n",
       "    </tr>\n",
       "    <tr>\n",
       "      <th>16</th>\n",
       "      <td>01:24.9</td>\n",
       "      <td>24</td>\n",
       "      <td>7</td>\n",
       "      <td>0</td>\n",
       "      <td>10</td>\n",
       "      <td>8</td>\n",
       "      <td>2.054029</td>\n",
       "      <td>6</td>\n",
       "      <td>6</td>\n",
       "      <td>7</td>\n",
       "      <td>3.166667</td>\n",
       "      <td>4</td>\n",
       "      <td>224</td>\n",
       "      <td>11</td>\n",
       "      <td>1</td>\n",
       "      <td>0</td>\n",
       "    </tr>\n",
       "    <tr>\n",
       "      <th>17</th>\n",
       "      <td>35:17.1</td>\n",
       "      <td>27</td>\n",
       "      <td>10</td>\n",
       "      <td>0</td>\n",
       "      <td>10</td>\n",
       "      <td>11</td>\n",
       "      <td>2.767195</td>\n",
       "      <td>6</td>\n",
       "      <td>6</td>\n",
       "      <td>7</td>\n",
       "      <td>3.666667</td>\n",
       "      <td>2</td>\n",
       "      <td>192</td>\n",
       "      <td>14</td>\n",
       "      <td>1</td>\n",
       "      <td>1</td>\n",
       "    </tr>\n",
       "    <tr>\n",
       "      <th>18</th>\n",
       "      <td>13:41.5</td>\n",
       "      <td>27</td>\n",
       "      <td>10</td>\n",
       "      <td>0</td>\n",
       "      <td>10</td>\n",
       "      <td>11</td>\n",
       "      <td>2.767195</td>\n",
       "      <td>6</td>\n",
       "      <td>6</td>\n",
       "      <td>7</td>\n",
       "      <td>3.666667</td>\n",
       "      <td>2</td>\n",
       "      <td>192</td>\n",
       "      <td>14</td>\n",
       "      <td>1</td>\n",
       "      <td>1</td>\n",
       "    </tr>\n",
       "    <tr>\n",
       "      <th>19</th>\n",
       "      <td>03:42.3</td>\n",
       "      <td>27</td>\n",
       "      <td>10</td>\n",
       "      <td>0</td>\n",
       "      <td>10</td>\n",
       "      <td>11</td>\n",
       "      <td>2.767195</td>\n",
       "      <td>6</td>\n",
       "      <td>6</td>\n",
       "      <td>7</td>\n",
       "      <td>3.666667</td>\n",
       "      <td>2</td>\n",
       "      <td>192</td>\n",
       "      <td>14</td>\n",
       "      <td>1</td>\n",
       "      <td>0</td>\n",
       "    </tr>\n",
       "    <tr>\n",
       "      <th>20</th>\n",
       "      <td>58:05.7</td>\n",
       "      <td>25</td>\n",
       "      <td>8</td>\n",
       "      <td>0</td>\n",
       "      <td>10</td>\n",
       "      <td>9</td>\n",
       "      <td>2.556642</td>\n",
       "      <td>6</td>\n",
       "      <td>6</td>\n",
       "      <td>7</td>\n",
       "      <td>3.333333</td>\n",
       "      <td>2</td>\n",
       "      <td>192</td>\n",
       "      <td>12</td>\n",
       "      <td>1</td>\n",
       "      <td>1</td>\n",
       "    </tr>\n",
       "    <tr>\n",
       "      <th>21</th>\n",
       "      <td>03:36.3</td>\n",
       "      <td>24</td>\n",
       "      <td>7</td>\n",
       "      <td>0</td>\n",
       "      <td>10</td>\n",
       "      <td>8</td>\n",
       "      <td>2.054029</td>\n",
       "      <td>6</td>\n",
       "      <td>6</td>\n",
       "      <td>7</td>\n",
       "      <td>3.166667</td>\n",
       "      <td>4</td>\n",
       "      <td>224</td>\n",
       "      <td>11</td>\n",
       "      <td>1</td>\n",
       "      <td>1</td>\n",
       "    </tr>\n",
       "    <tr>\n",
       "      <th>22</th>\n",
       "      <td>38:41.9</td>\n",
       "      <td>26</td>\n",
       "      <td>9</td>\n",
       "      <td>0</td>\n",
       "      <td>10</td>\n",
       "      <td>10</td>\n",
       "      <td>2.742338</td>\n",
       "      <td>6</td>\n",
       "      <td>6</td>\n",
       "      <td>7</td>\n",
       "      <td>3.500000</td>\n",
       "      <td>2</td>\n",
       "      <td>192</td>\n",
       "      <td>13</td>\n",
       "      <td>1</td>\n",
       "      <td>1</td>\n",
       "    </tr>\n",
       "    <tr>\n",
       "      <th>23</th>\n",
       "      <td>26:22.4</td>\n",
       "      <td>27</td>\n",
       "      <td>10</td>\n",
       "      <td>0</td>\n",
       "      <td>10</td>\n",
       "      <td>11</td>\n",
       "      <td>2.570417</td>\n",
       "      <td>6</td>\n",
       "      <td>6</td>\n",
       "      <td>7</td>\n",
       "      <td>3.666667</td>\n",
       "      <td>2</td>\n",
       "      <td>192</td>\n",
       "      <td>14</td>\n",
       "      <td>1</td>\n",
       "      <td>0</td>\n",
       "    </tr>\n",
       "    <tr>\n",
       "      <th>24</th>\n",
       "      <td>04:09.4</td>\n",
       "      <td>27</td>\n",
       "      <td>10</td>\n",
       "      <td>0</td>\n",
       "      <td>10</td>\n",
       "      <td>11</td>\n",
       "      <td>2.767195</td>\n",
       "      <td>6</td>\n",
       "      <td>6</td>\n",
       "      <td>7</td>\n",
       "      <td>3.666667</td>\n",
       "      <td>2</td>\n",
       "      <td>192</td>\n",
       "      <td>14</td>\n",
       "      <td>1</td>\n",
       "      <td>1</td>\n",
       "    </tr>\n",
       "  </tbody>\n",
       "</table>\n",
       "</div>"
      ],
      "text/plain": [
       "   timestamp  FQDN_count  subdomain_length  upper  lower  numeric   entropy  \\\n",
       "0    56:19.8          27                10      0     10       11  2.570417   \n",
       "1    07:23.9          27                10      0     10       11  2.767195   \n",
       "2    23:15.1          26                 9      0     10       10  2.742338   \n",
       "3    04:51.9          27                10      0     10       11  2.570417   \n",
       "4    12:44.0          15                 9      0     11        0  2.929439   \n",
       "5    16:29.5          27                10      0     10       11  2.570417   \n",
       "6    26:58.3          23                 3      0     20        0  3.568087   \n",
       "7    57:29.2          24                 7      0     10        8  2.054029   \n",
       "8    27:59.6          14                 3      0     12        0  2.514247   \n",
       "9    21:27.9          18                 0      0     17        0  2.879113   \n",
       "10   09:54.6          24                 7      0     10        8  2.054029   \n",
       "11   40:01.6          21                 0      0     19        0  3.451880   \n",
       "12   50:01.3          24                 7      0     10        8  2.054029   \n",
       "13   17:54.6          24                 7      0     10        8  2.054029   \n",
       "14   37:33.0          10                 0      0      9        0  2.625000   \n",
       "15   54:02.9           9                 0      0      8        0  1.820802   \n",
       "16   01:24.9          24                 7      0     10        8  2.054029   \n",
       "17   35:17.1          27                10      0     10       11  2.767195   \n",
       "18   13:41.5          27                10      0     10       11  2.767195   \n",
       "19   03:42.3          27                10      0     10       11  2.767195   \n",
       "20   58:05.7          25                 8      0     10        9  2.556642   \n",
       "21   03:36.3          24                 7      0     10        8  2.054029   \n",
       "22   38:41.9          26                 9      0     10       10  2.742338   \n",
       "23   26:22.4          27                10      0     10       11  2.570417   \n",
       "24   04:09.4          27                10      0     10       11  2.767195   \n",
       "\n",
       "    special  labels  labels_max  labels_average longest_word  \\\n",
       "0         6       6           7        3.666667            2   \n",
       "1         6       6           7        3.666667            2   \n",
       "2         6       6           7        3.500000            2   \n",
       "3         6       6           7        3.666667            2   \n",
       "4         4       3           5        4.333333        local   \n",
       "5         6       6           7        3.666667            2   \n",
       "6         3       3          16        7.000000    pforzheim   \n",
       "7         6       6           7        3.166667            4   \n",
       "8         2       3           6        4.000000         face   \n",
       "9         1       2          14        8.500000        store   \n",
       "10        6       6           7        3.166667            4   \n",
       "11        2       2          17       10.000000         kate   \n",
       "12        6       6           7        3.166667            4   \n",
       "13        6       6           7        3.166667            4   \n",
       "14        1       2           7        4.500000          ter   \n",
       "15        1       2           5        4.000000          pit   \n",
       "16        6       6           7        3.166667            4   \n",
       "17        6       6           7        3.666667            2   \n",
       "18        6       6           7        3.666667            2   \n",
       "19        6       6           7        3.666667            2   \n",
       "20        6       6           7        3.333333            2   \n",
       "21        6       6           7        3.166667            4   \n",
       "22        6       6           7        3.500000            2   \n",
       "23        6       6           7        3.666667            2   \n",
       "24        6       6           7        3.666667            2   \n",
       "\n",
       "                  sld  len  subdomain  Target Attack  \n",
       "0                 192   14          1              1  \n",
       "1                 192   14          1              1  \n",
       "2                 192   13          1              0  \n",
       "3                 192   14          1              1  \n",
       "4               local   15          1              1  \n",
       "5                 192   14          1              1  \n",
       "6    pforzheim-bisons   20          1              0  \n",
       "7                 224   11          1              1  \n",
       "8              reface   10          1              0  \n",
       "9      dellogliostore   15          0              0  \n",
       "10                224   11          1              0  \n",
       "11  katekyo-fukushima   18          0              0  \n",
       "12                224   11          1              1  \n",
       "13                224   11          1              1  \n",
       "14            pfister    8          0              0  \n",
       "15              uppit    6          0              0  \n",
       "16                224   11          1              0  \n",
       "17                192   14          1              1  \n",
       "18                192   14          1              1  \n",
       "19                192   14          1              0  \n",
       "20                192   12          1              1  \n",
       "21                224   11          1              1  \n",
       "22                192   13          1              1  \n",
       "23                192   14          1              0  \n",
       "24                192   14          1              1  "
      ]
     },
     "execution_count": 3,
     "metadata": {},
     "output_type": "execute_result"
    }
   ],
   "source": [
    "df_static.head(25)"
   ]
  },
  {
   "cell_type": "markdown",
   "id": "12699b4e",
   "metadata": {},
   "source": [
    "# Data Imbalance or not"
   ]
  },
  {
   "cell_type": "code",
   "execution_count": 4,
   "id": "2222c8d8",
   "metadata": {},
   "outputs": [
    {
     "data": {
      "text/plain": [
       "Text(0, 0.5, 'Frequency')"
      ]
     },
     "execution_count": 4,
     "metadata": {},
     "output_type": "execute_result"
    },
    {
     "data": {
      "image/png": "[encoded data removed]",
      "text/plain": [
       "<Figure size 640x480 with 1 Axes>"
      ]
     },
     "metadata": {},
     "output_type": "display_data"
    }
   ],
   "source": [
    "count_classes = pd.value_counts(df_static['Target Attack'], sort = True)\n",
    "\n",
    "count_classes.plot(kind = 'bar', rot=0)\n",
    "\n",
    "plt.title(\"Class Distribution\")\n",
    "\n",
    "# LABELS = [\"Attack\", \"Non-Attack\"]\n",
    "\n",
    "plt.xticks(range(2))\n",
    "\n",
    "plt.xlabel(\"Target Attack\")\n",
    "\n",
    "plt.ylabel(\"Frequency\")"
   ]
  },
  {
   "cell_type": "markdown",
   "id": "2ad362c9",
   "metadata": {},
   "source": [
    "#### In the above class distribution of Target variable i.e. \"Target Attack\" is balanced,So we will not apply any sampling method to sampled the data"
   ]
  },
  {
   "cell_type": "markdown",
   "id": "b6338d8c",
   "metadata": {},
   "source": [
    "# EDA, Data Cleansing and Feature creation"
   ]
  },
  {
   "cell_type": "code",
   "execution_count": 5,
   "id": "8fb30e9e",
   "metadata": {},
   "outputs": [
    {
     "data": {
      "text/plain": [
       "(268074, 16)"
      ]
     },
     "execution_count": 5,
     "metadata": {},
     "output_type": "execute_result"
    }
   ],
   "source": [
    "df_static.shape"
   ]
  },
  {
   "cell_type": "markdown",
   "id": "6ed8dc94",
   "metadata": {},
   "source": [
    "#### So here we can see the our df have 268074 rows and 16 columns"
   ]
  },
  {
   "cell_type": "code",
   "execution_count": 6,
   "id": "95422aac",
   "metadata": {},
   "outputs": [
    {
     "name": "stdout",
     "output_type": "stream",
     "text": [
      "<class 'pandas.core.frame.DataFrame'>\n",
      "RangeIndex: 268074 entries, 0 to 268073\n",
      "Data columns (total 16 columns):\n",
      " #   Column            Non-Null Count   Dtype  \n",
      "---  ------            --------------   -----  \n",
      " 0   timestamp         268074 non-null  object \n",
      " 1   FQDN_count        268074 non-null  int64  \n",
      " 2   subdomain_length  268074 non-null  int64  \n",
      " 3   upper             268074 non-null  int64  \n",
      " 4   lower             268074 non-null  int64  \n",
      " 5   numeric           268074 non-null  int64  \n",
      " 6   entropy           268074 non-null  float64\n",
      " 7   special           268074 non-null  int64  \n",
      " 8   labels            268074 non-null  int64  \n",
      " 9   labels_max        268074 non-null  int64  \n",
      " 10  labels_average    268074 non-null  float64\n",
      " 11  longest_word      268066 non-null  object \n",
      " 12  sld               268074 non-null  object \n",
      " 13  len               268074 non-null  int64  \n",
      " 14  subdomain         268074 non-null  int64  \n",
      " 15  Target Attack     268074 non-null  int64  \n",
      "dtypes: float64(2), int64(11), object(3)\n",
      "memory usage: 32.7+ MB\n"
     ]
    }
   ],
   "source": [
    "df_static.info()"
   ]
  },
  {
   "cell_type": "markdown",
   "id": "5dceae6a",
   "metadata": {},
   "source": [
    "#### Apart from  timestamp, longest_word and sld all columns are in numerical format "
   ]
  },
  {
   "cell_type": "code",
   "execution_count": 7,
   "id": "0038be7e",
   "metadata": {},
   "outputs": [
    {
     "data": {
      "text/html": [
       "<div>\n",
       "<style scoped>\n",
       "    .dataframe tbody tr th:only-of-type {\n",
       "        vertical-align: middle;\n",
       "    }\n",
       "\n",
       "    .dataframe tbody tr th {\n",
       "        vertical-align: top;\n",
       "    }\n",
       "\n",
       "    .dataframe thead th {\n",
       "        text-align: right;\n",
       "    }\n",
       "</style>\n",
       "<table border=\"1\" class=\"dataframe\">\n",
       "  <thead>\n",
       "    <tr style=\"text-align: right;\">\n",
       "      <th></th>\n",
       "      <th>FQDN_count</th>\n",
       "      <th>subdomain_length</th>\n",
       "      <th>upper</th>\n",
       "      <th>lower</th>\n",
       "      <th>numeric</th>\n",
       "      <th>entropy</th>\n",
       "      <th>special</th>\n",
       "      <th>labels</th>\n",
       "      <th>labels_max</th>\n",
       "      <th>labels_average</th>\n",
       "      <th>len</th>\n",
       "      <th>subdomain</th>\n",
       "      <th>Target Attack</th>\n",
       "    </tr>\n",
       "  </thead>\n",
       "  <tbody>\n",
       "    <tr>\n",
       "      <th>count</th>\n",
       "      <td>268074.000000</td>\n",
       "      <td>268074.000000</td>\n",
       "      <td>268074.000000</td>\n",
       "      <td>268074.000000</td>\n",
       "      <td>268074.000000</td>\n",
       "      <td>268074.000000</td>\n",
       "      <td>268074.000000</td>\n",
       "      <td>268074.000000</td>\n",
       "      <td>268074.000000</td>\n",
       "      <td>268074.000000</td>\n",
       "      <td>268074.000000</td>\n",
       "      <td>268074.000000</td>\n",
       "      <td>268074.000000</td>\n",
       "    </tr>\n",
       "    <tr>\n",
       "      <th>mean</th>\n",
       "      <td>22.286596</td>\n",
       "      <td>6.059021</td>\n",
       "      <td>0.845420</td>\n",
       "      <td>10.410014</td>\n",
       "      <td>6.497586</td>\n",
       "      <td>2.485735</td>\n",
       "      <td>4.533577</td>\n",
       "      <td>4.788823</td>\n",
       "      <td>8.252233</td>\n",
       "      <td>4.802239</td>\n",
       "      <td>12.576714</td>\n",
       "      <td>0.753497</td>\n",
       "      <td>0.549024</td>\n",
       "    </tr>\n",
       "    <tr>\n",
       "      <th>std</th>\n",
       "      <td>6.001205</td>\n",
       "      <td>3.899505</td>\n",
       "      <td>4.941929</td>\n",
       "      <td>3.207725</td>\n",
       "      <td>4.499866</td>\n",
       "      <td>0.407709</td>\n",
       "      <td>2.187683</td>\n",
       "      <td>1.803256</td>\n",
       "      <td>4.415355</td>\n",
       "      <td>4.573066</td>\n",
       "      <td>4.177828</td>\n",
       "      <td>0.430975</td>\n",
       "      <td>0.497592</td>\n",
       "    </tr>\n",
       "    <tr>\n",
       "      <th>min</th>\n",
       "      <td>2.000000</td>\n",
       "      <td>0.000000</td>\n",
       "      <td>0.000000</td>\n",
       "      <td>0.000000</td>\n",
       "      <td>0.000000</td>\n",
       "      <td>0.219195</td>\n",
       "      <td>0.000000</td>\n",
       "      <td>1.000000</td>\n",
       "      <td>2.000000</td>\n",
       "      <td>2.000000</td>\n",
       "      <td>2.000000</td>\n",
       "      <td>0.000000</td>\n",
       "      <td>0.000000</td>\n",
       "    </tr>\n",
       "    <tr>\n",
       "      <th>25%</th>\n",
       "      <td>18.000000</td>\n",
       "      <td>3.000000</td>\n",
       "      <td>0.000000</td>\n",
       "      <td>10.000000</td>\n",
       "      <td>0.000000</td>\n",
       "      <td>2.054029</td>\n",
       "      <td>2.000000</td>\n",
       "      <td>3.000000</td>\n",
       "      <td>7.000000</td>\n",
       "      <td>3.166667</td>\n",
       "      <td>11.000000</td>\n",
       "      <td>1.000000</td>\n",
       "      <td>0.000000</td>\n",
       "    </tr>\n",
       "    <tr>\n",
       "      <th>50%</th>\n",
       "      <td>24.000000</td>\n",
       "      <td>7.000000</td>\n",
       "      <td>0.000000</td>\n",
       "      <td>10.000000</td>\n",
       "      <td>8.000000</td>\n",
       "      <td>2.570417</td>\n",
       "      <td>6.000000</td>\n",
       "      <td>6.000000</td>\n",
       "      <td>7.000000</td>\n",
       "      <td>3.666667</td>\n",
       "      <td>12.000000</td>\n",
       "      <td>1.000000</td>\n",
       "      <td>1.000000</td>\n",
       "    </tr>\n",
       "    <tr>\n",
       "      <th>75%</th>\n",
       "      <td>27.000000</td>\n",
       "      <td>10.000000</td>\n",
       "      <td>0.000000</td>\n",
       "      <td>10.000000</td>\n",
       "      <td>10.000000</td>\n",
       "      <td>2.767195</td>\n",
       "      <td>6.000000</td>\n",
       "      <td>6.000000</td>\n",
       "      <td>7.000000</td>\n",
       "      <td>4.000000</td>\n",
       "      <td>14.000000</td>\n",
       "      <td>1.000000</td>\n",
       "      <td>1.000000</td>\n",
       "    </tr>\n",
       "    <tr>\n",
       "      <th>max</th>\n",
       "      <td>36.000000</td>\n",
       "      <td>23.000000</td>\n",
       "      <td>32.000000</td>\n",
       "      <td>34.000000</td>\n",
       "      <td>12.000000</td>\n",
       "      <td>4.216847</td>\n",
       "      <td>7.000000</td>\n",
       "      <td>7.000000</td>\n",
       "      <td>32.000000</td>\n",
       "      <td>32.000000</td>\n",
       "      <td>33.000000</td>\n",
       "      <td>1.000000</td>\n",
       "      <td>1.000000</td>\n",
       "    </tr>\n",
       "  </tbody>\n",
       "</table>\n",
       "</div>"
      ],
      "text/plain": [
       "          FQDN_count  subdomain_length          upper          lower  \\\n",
       "count  268074.000000     268074.000000  268074.000000  268074.000000   \n",
       "mean       22.286596          6.059021       0.845420      10.410014   \n",
       "std         6.001205          3.899505       4.941929       3.207725   \n",
       "min         2.000000          0.000000       0.000000       0.000000   \n",
       "25%        18.000000          3.000000       0.000000      10.000000   \n",
       "50%        24.000000          7.000000       0.000000      10.000000   \n",
       "75%        27.000000         10.000000       0.000000      10.000000   \n",
       "max        36.000000         23.000000      32.000000      34.000000   \n",
       "\n",
       "             numeric        entropy        special         labels  \\\n",
       "count  268074.000000  268074.000000  268074.000000  268074.000000   \n",
       "mean        6.497586       2.485735       4.533577       4.788823   \n",
       "std         4.499866       0.407709       2.187683       1.803256   \n",
       "min         0.000000       0.219195       0.000000       1.000000   \n",
       "25%         0.000000       2.054029       2.000000       3.000000   \n",
       "50%         8.000000       2.570417       6.000000       6.000000   \n",
       "75%        10.000000       2.767195       6.000000       6.000000   \n",
       "max        12.000000       4.216847       7.000000       7.000000   \n",
       "\n",
       "          labels_max  labels_average            len      subdomain  \\\n",
       "count  268074.000000   268074.000000  268074.000000  268074.000000   \n",
       "mean        8.252233        4.802239      12.576714       0.753497   \n",
       "std         4.415355        4.573066       4.177828       0.430975   \n",
       "min         2.000000        2.000000       2.000000       0.000000   \n",
       "25%         7.000000        3.166667      11.000000       1.000000   \n",
       "50%         7.000000        3.666667      12.000000       1.000000   \n",
       "75%         7.000000        4.000000      14.000000       1.000000   \n",
       "max        32.000000       32.000000      33.000000       1.000000   \n",
       "\n",
       "       Target Attack  \n",
       "count  268074.000000  \n",
       "mean        0.549024  \n",
       "std         0.497592  \n",
       "min         0.000000  \n",
       "25%         0.000000  \n",
       "50%         1.000000  \n",
       "75%         1.000000  \n",
       "max         1.000000  "
      ]
     },
     "execution_count": 7,
     "metadata": {},
     "output_type": "execute_result"
    }
   ],
   "source": [
    "df_static.describe()"
   ]
  },
  {
   "cell_type": "markdown",
   "id": "4ac8e799",
   "metadata": {},
   "source": [
    "### Checking if any NULL values are there"
   ]
  },
  {
   "cell_type": "code",
   "execution_count": 8,
   "id": "f2aa6562",
   "metadata": {},
   "outputs": [
    {
     "data": {
      "text/plain": [
       "timestamp           0\n",
       "FQDN_count          0\n",
       "subdomain_length    0\n",
       "upper               0\n",
       "lower               0\n",
       "numeric             0\n",
       "entropy             0\n",
       "special             0\n",
       "labels              0\n",
       "labels_max          0\n",
       "labels_average      0\n",
       "longest_word        8\n",
       "sld                 0\n",
       "len                 0\n",
       "subdomain           0\n",
       "Target Attack       0\n",
       "dtype: int64"
      ]
     },
     "execution_count": 8,
     "metadata": {},
     "output_type": "execute_result"
    }
   ],
   "source": [
    "df_static.isnull().sum()"
   ]
  },
  {
   "cell_type": "code",
   "execution_count": 9,
   "id": "28ee29ba",
   "metadata": {},
   "outputs": [
    {
     "data": {
      "text/plain": [
       "<AxesSubplot:>"
      ]
     },
     "execution_count": 9,
     "metadata": {},
     "output_type": "execute_result"
    },
    {
     "data": {
      "image/png": "[encoded data removed]",
      "text/plain": [
       "<Figure size 640x480 with 1 Axes>"
      ]
     },
     "metadata": {},
     "output_type": "display_data"
    }
   ],
   "source": [
    "sns.heatmap(df_static.isnull(),yticklabels=False,cbar=False,cmap='viridis')\n"
   ]
  },
  {
   "cell_type": "markdown",
   "id": "28b36b56",
   "metadata": {},
   "source": [
    "### Here we can observe that all rows which have longest_word as NaN have TargetAttack 0,so we can remove 8 rows as it is very less,However we have already checkd the \"Class Distribution\" of 0 and 1 in Target Attck feature,as the portion of 0 and 1 is quite balance so it won't affect much if we remove 8 rows wit h 0 target"
   ]
  },
  {
   "cell_type": "markdown",
   "id": "521ccd64",
   "metadata": {},
   "source": [
    "# BUT!!!!!!!!!!!!!!!!!!!!"
   ]
  },
  {
   "cell_type": "markdown",
   "id": "c2e52704",
   "metadata": {},
   "source": [
    "### we can see one weird pattern in 'sld' and 'longest word' ,you can see that longest word is just a last digit of sld.for example if 'sld' is 192 then it 'longest word' for the the 192 is 2.which does not make any sense.so its very noisy.so we will drop 'longest word' and 'sld' column\n"
   ]
  },
  {
   "cell_type": "code",
   "execution_count": 10,
   "id": "eb361d14",
   "metadata": {},
   "outputs": [],
   "source": [
    "df_static = df_static.drop(['longest_word','sld'],axis=1)"
   ]
  },
  {
   "cell_type": "markdown",
   "id": "6852cae8",
   "metadata": {},
   "source": [
    "### Time stamp data doesnt matter much in the given task and dataset as DNS traffic attack and timestamp does not co-relate and doesnt dependent."
   ]
  },
  {
   "cell_type": "code",
   "execution_count": 11,
   "id": "cad51a9b",
   "metadata": {},
   "outputs": [],
   "source": [
    "df_static = df_static.drop(['timestamp'],axis=1)"
   ]
  },
  {
   "cell_type": "code",
   "execution_count": 12,
   "id": "603f1f28",
   "metadata": {},
   "outputs": [
    {
     "name": "stdout",
     "output_type": "stream",
     "text": [
      "<class 'pandas.core.frame.DataFrame'>\n",
      "RangeIndex: 268074 entries, 0 to 268073\n",
      "Data columns (total 13 columns):\n",
      " #   Column            Non-Null Count   Dtype  \n",
      "---  ------            --------------   -----  \n",
      " 0   FQDN_count        268074 non-null  int64  \n",
      " 1   subdomain_length  268074 non-null  int64  \n",
      " 2   upper             268074 non-null  int64  \n",
      " 3   lower             268074 non-null  int64  \n",
      " 4   numeric           268074 non-null  int64  \n",
      " 5   entropy           268074 non-null  float64\n",
      " 6   special           268074 non-null  int64  \n",
      " 7   labels            268074 non-null  int64  \n",
      " 8   labels_max        268074 non-null  int64  \n",
      " 9   labels_average    268074 non-null  float64\n",
      " 10  len               268074 non-null  int64  \n",
      " 11  subdomain         268074 non-null  int64  \n",
      " 12  Target Attack     268074 non-null  int64  \n",
      "dtypes: float64(2), int64(11)\n",
      "memory usage: 26.6 MB\n"
     ]
    }
   ],
   "source": [
    "df_static.info()"
   ]
  },
  {
   "cell_type": "code",
   "execution_count": 13,
   "id": "28596e69",
   "metadata": {},
   "outputs": [],
   "source": [
    "X = df_static[['FQDN_count', 'subdomain_length', 'upper', 'lower', 'numeric', 'entropy', 'special', 'labels', 'labels_max', 'labels_average', 'len', 'subdomain']]\n",
    "y = df_static[['Target Attack']]"
   ]
  },
  {
   "cell_type": "code",
   "execution_count": 14,
   "id": "db48892b",
   "metadata": {},
   "outputs": [
    {
     "data": {
      "text/html": [
       "<div>\n",
       "<style scoped>\n",
       "    .dataframe tbody tr th:only-of-type {\n",
       "        vertical-align: middle;\n",
       "    }\n",
       "\n",
       "    .dataframe tbody tr th {\n",
       "        vertical-align: top;\n",
       "    }\n",
       "\n",
       "    .dataframe thead th {\n",
       "        text-align: right;\n",
       "    }\n",
       "</style>\n",
       "<table border=\"1\" class=\"dataframe\">\n",
       "  <thead>\n",
       "    <tr style=\"text-align: right;\">\n",
       "      <th></th>\n",
       "      <th>FQDN_count</th>\n",
       "      <th>subdomain_length</th>\n",
       "      <th>upper</th>\n",
       "      <th>lower</th>\n",
       "      <th>numeric</th>\n",
       "      <th>entropy</th>\n",
       "      <th>special</th>\n",
       "      <th>labels</th>\n",
       "      <th>labels_max</th>\n",
       "      <th>labels_average</th>\n",
       "      <th>len</th>\n",
       "      <th>subdomain</th>\n",
       "    </tr>\n",
       "  </thead>\n",
       "  <tbody>\n",
       "    <tr>\n",
       "      <th>0</th>\n",
       "      <td>27</td>\n",
       "      <td>10</td>\n",
       "      <td>0</td>\n",
       "      <td>10</td>\n",
       "      <td>11</td>\n",
       "      <td>2.570417</td>\n",
       "      <td>6</td>\n",
       "      <td>6</td>\n",
       "      <td>7</td>\n",
       "      <td>3.666667</td>\n",
       "      <td>14</td>\n",
       "      <td>1</td>\n",
       "    </tr>\n",
       "    <tr>\n",
       "      <th>1</th>\n",
       "      <td>27</td>\n",
       "      <td>10</td>\n",
       "      <td>0</td>\n",
       "      <td>10</td>\n",
       "      <td>11</td>\n",
       "      <td>2.767195</td>\n",
       "      <td>6</td>\n",
       "      <td>6</td>\n",
       "      <td>7</td>\n",
       "      <td>3.666667</td>\n",
       "      <td>14</td>\n",
       "      <td>1</td>\n",
       "    </tr>\n",
       "    <tr>\n",
       "      <th>2</th>\n",
       "      <td>26</td>\n",
       "      <td>9</td>\n",
       "      <td>0</td>\n",
       "      <td>10</td>\n",
       "      <td>10</td>\n",
       "      <td>2.742338</td>\n",
       "      <td>6</td>\n",
       "      <td>6</td>\n",
       "      <td>7</td>\n",
       "      <td>3.500000</td>\n",
       "      <td>13</td>\n",
       "      <td>1</td>\n",
       "    </tr>\n",
       "    <tr>\n",
       "      <th>3</th>\n",
       "      <td>27</td>\n",
       "      <td>10</td>\n",
       "      <td>0</td>\n",
       "      <td>10</td>\n",
       "      <td>11</td>\n",
       "      <td>2.570417</td>\n",
       "      <td>6</td>\n",
       "      <td>6</td>\n",
       "      <td>7</td>\n",
       "      <td>3.666667</td>\n",
       "      <td>14</td>\n",
       "      <td>1</td>\n",
       "    </tr>\n",
       "    <tr>\n",
       "      <th>4</th>\n",
       "      <td>15</td>\n",
       "      <td>9</td>\n",
       "      <td>0</td>\n",
       "      <td>11</td>\n",
       "      <td>0</td>\n",
       "      <td>2.929439</td>\n",
       "      <td>4</td>\n",
       "      <td>3</td>\n",
       "      <td>5</td>\n",
       "      <td>4.333333</td>\n",
       "      <td>15</td>\n",
       "      <td>1</td>\n",
       "    </tr>\n",
       "    <tr>\n",
       "      <th>...</th>\n",
       "      <td>...</td>\n",
       "      <td>...</td>\n",
       "      <td>...</td>\n",
       "      <td>...</td>\n",
       "      <td>...</td>\n",
       "      <td>...</td>\n",
       "      <td>...</td>\n",
       "      <td>...</td>\n",
       "      <td>...</td>\n",
       "      <td>...</td>\n",
       "      <td>...</td>\n",
       "      <td>...</td>\n",
       "    </tr>\n",
       "    <tr>\n",
       "      <th>268069</th>\n",
       "      <td>18</td>\n",
       "      <td>3</td>\n",
       "      <td>0</td>\n",
       "      <td>16</td>\n",
       "      <td>0</td>\n",
       "      <td>2.338623</td>\n",
       "      <td>2</td>\n",
       "      <td>3</td>\n",
       "      <td>10</td>\n",
       "      <td>5.333333</td>\n",
       "      <td>14</td>\n",
       "      <td>1</td>\n",
       "    </tr>\n",
       "    <tr>\n",
       "      <th>268070</th>\n",
       "      <td>27</td>\n",
       "      <td>10</td>\n",
       "      <td>0</td>\n",
       "      <td>10</td>\n",
       "      <td>11</td>\n",
       "      <td>2.767195</td>\n",
       "      <td>6</td>\n",
       "      <td>6</td>\n",
       "      <td>7</td>\n",
       "      <td>3.666667</td>\n",
       "      <td>14</td>\n",
       "      <td>1</td>\n",
       "    </tr>\n",
       "    <tr>\n",
       "      <th>268071</th>\n",
       "      <td>27</td>\n",
       "      <td>10</td>\n",
       "      <td>0</td>\n",
       "      <td>10</td>\n",
       "      <td>11</td>\n",
       "      <td>2.767195</td>\n",
       "      <td>6</td>\n",
       "      <td>6</td>\n",
       "      <td>7</td>\n",
       "      <td>3.666667</td>\n",
       "      <td>14</td>\n",
       "      <td>1</td>\n",
       "    </tr>\n",
       "    <tr>\n",
       "      <th>268072</th>\n",
       "      <td>16</td>\n",
       "      <td>0</td>\n",
       "      <td>0</td>\n",
       "      <td>14</td>\n",
       "      <td>0</td>\n",
       "      <td>3.249687</td>\n",
       "      <td>2</td>\n",
       "      <td>2</td>\n",
       "      <td>13</td>\n",
       "      <td>7.500000</td>\n",
       "      <td>14</td>\n",
       "      <td>0</td>\n",
       "    </tr>\n",
       "    <tr>\n",
       "      <th>268073</th>\n",
       "      <td>27</td>\n",
       "      <td>10</td>\n",
       "      <td>0</td>\n",
       "      <td>10</td>\n",
       "      <td>11</td>\n",
       "      <td>2.570417</td>\n",
       "      <td>6</td>\n",
       "      <td>6</td>\n",
       "      <td>7</td>\n",
       "      <td>3.666667</td>\n",
       "      <td>14</td>\n",
       "      <td>1</td>\n",
       "    </tr>\n",
       "  </tbody>\n",
       "</table>\n",
       "<p>268074 rows × 12 columns</p>\n",
       "</div>"
      ],
      "text/plain": [
       "        FQDN_count  subdomain_length  upper  lower  numeric   entropy  \\\n",
       "0               27                10      0     10       11  2.570417   \n",
       "1               27                10      0     10       11  2.767195   \n",
       "2               26                 9      0     10       10  2.742338   \n",
       "3               27                10      0     10       11  2.570417   \n",
       "4               15                 9      0     11        0  2.929439   \n",
       "...            ...               ...    ...    ...      ...       ...   \n",
       "268069          18                 3      0     16        0  2.338623   \n",
       "268070          27                10      0     10       11  2.767195   \n",
       "268071          27                10      0     10       11  2.767195   \n",
       "268072          16                 0      0     14        0  3.249687   \n",
       "268073          27                10      0     10       11  2.570417   \n",
       "\n",
       "        special  labels  labels_max  labels_average  len  subdomain  \n",
       "0             6       6           7        3.666667   14          1  \n",
       "1             6       6           7        3.666667   14          1  \n",
       "2             6       6           7        3.500000   13          1  \n",
       "3             6       6           7        3.666667   14          1  \n",
       "4             4       3           5        4.333333   15          1  \n",
       "...         ...     ...         ...             ...  ...        ...  \n",
       "268069        2       3          10        5.333333   14          1  \n",
       "268070        6       6           7        3.666667   14          1  \n",
       "268071        6       6           7        3.666667   14          1  \n",
       "268072        2       2          13        7.500000   14          0  \n",
       "268073        6       6           7        3.666667   14          1  \n",
       "\n",
       "[268074 rows x 12 columns]"
      ]
     },
     "execution_count": 14,
     "metadata": {},
     "output_type": "execute_result"
    }
   ],
   "source": [
    "X"
   ]
  },
  {
   "cell_type": "markdown",
   "id": "dc8e69df",
   "metadata": {},
   "source": [
    "# Data splitting "
   ]
  },
  {
   "cell_type": "code",
   "execution_count": 15,
   "id": "22a1b04a",
   "metadata": {},
   "outputs": [
    {
     "data": {
      "text/plain": [
       "((179609, 12), (88465, 12))"
      ]
     },
     "execution_count": 15,
     "metadata": {},
     "output_type": "execute_result"
    }
   ],
   "source": [
    "# separate dataset into train and test\n",
    "from sklearn.model_selection import train_test_split\n",
    "X_train, X_test, y_train, y_test = train_test_split(\n",
    "    X,\n",
    "    y,\n",
    "    test_size=0.33,\n",
    "    random_state=42)\n",
    "\n",
    "X_train.shape, X_test.shape"
   ]
  },
  {
   "cell_type": "markdown",
   "id": "82a7f12a",
   "metadata": {},
   "source": [
    "# Scaling"
   ]
  },
  {
   "cell_type": "code",
   "execution_count": 16,
   "id": "832c90b1",
   "metadata": {},
   "outputs": [],
   "source": [
    "X_column_names = X_train.columns.values.tolist()"
   ]
  },
  {
   "cell_type": "code",
   "execution_count": 17,
   "id": "18b2a995",
   "metadata": {},
   "outputs": [
    {
     "name": "stdout",
     "output_type": "stream",
     "text": [
      "['FQDN_count', 'subdomain_length', 'upper', 'lower', 'numeric', 'entropy', 'special', 'labels', 'labels_max', 'labels_average', 'len', 'subdomain']\n"
     ]
    }
   ],
   "source": [
    "print(X_column_names)"
   ]
  },
  {
   "cell_type": "code",
   "execution_count": 18,
   "id": "6773108d",
   "metadata": {},
   "outputs": [],
   "source": [
    "scaler = MinMaxScaler()"
   ]
  },
  {
   "cell_type": "code",
   "execution_count": 19,
   "id": "4eeadd44",
   "metadata": {},
   "outputs": [
    {
     "data": {
      "text/html": [
       "<style>#sk-container-id-1 {color: black;background-color: white;}#sk-container-id-1 pre{padding: 0;}#sk-container-id-1 div.sk-toggleable {background-color: white;}#sk-container-id-1 label.sk-toggleable__label {cursor: pointer;display: block;width: 100%;margin-bottom: 0;padding: 0.3em;box-sizing: border-box;text-align: center;}#sk-container-id-1 label.sk-toggleable__label-arrow:before {content: \"▸\";float: left;margin-right: 0.25em;color: #696969;}#sk-container-id-1 label.sk-toggleable__label-arrow:hover:before {color: black;}#sk-container-id-1 div.sk-estimator:hover label.sk-toggleable__label-arrow:before {color: black;}#sk-container-id-1 div.sk-toggleable__content {max-height: 0;max-width: 0;overflow: hidden;text-align: left;background-color: #f0f8ff;}#sk-container-id-1 div.sk-toggleable__content pre {margin: 0.2em;color: black;border-radius: 0.25em;background-color: #f0f8ff;}#sk-container-id-1 input.sk-toggleable__control:checked~div.sk-toggleable__content {max-height: 200px;max-width: 100%;overflow: auto;}#sk-container-id-1 input.sk-toggleable__control:checked~label.sk-toggleable__label-arrow:before {content: \"▾\";}#sk-container-id-1 div.sk-estimator input.sk-toggleable__control:checked~label.sk-toggleable__label {background-color: #d4ebff;}#sk-container-id-1 div.sk-label input.sk-toggleable__control:checked~label.sk-toggleable__label {background-color: #d4ebff;}#sk-container-id-1 input.sk-hidden--visually {border: 0;clip: rect(1px 1px 1px 1px);clip: rect(1px, 1px, 1px, 1px);height: 1px;margin: -1px;overflow: hidden;padding: 0;position: absolute;width: 1px;}#sk-container-id-1 div.sk-estimator {font-family: monospace;background-color: #f0f8ff;border: 1px dotted black;border-radius: 0.25em;box-sizing: border-box;margin-bottom: 0.5em;}#sk-container-id-1 div.sk-estimator:hover {background-color: #d4ebff;}#sk-container-id-1 div.sk-parallel-item::after {content: \"\";width: 100%;border-bottom: 1px solid gray;flex-grow: 1;}#sk-container-id-1 div.sk-label:hover label.sk-toggleable__label {background-color: #d4ebff;}#sk-container-id-1 div.sk-serial::before {content: \"\";position: absolute;border-left: 1px solid gray;box-sizing: border-box;top: 0;bottom: 0;left: 50%;z-index: 0;}#sk-container-id-1 div.sk-serial {display: flex;flex-direction: column;align-items: center;background-color: white;padding-right: 0.2em;padding-left: 0.2em;position: relative;}#sk-container-id-1 div.sk-item {position: relative;z-index: 1;}#sk-container-id-1 div.sk-parallel {display: flex;align-items: stretch;justify-content: center;background-color: white;position: relative;}#sk-container-id-1 div.sk-item::before, #sk-container-id-1 div.sk-parallel-item::before {content: \"\";position: absolute;border-left: 1px solid gray;box-sizing: border-box;top: 0;bottom: 0;left: 50%;z-index: -1;}#sk-container-id-1 div.sk-parallel-item {display: flex;flex-direction: column;z-index: 1;position: relative;background-color: white;}#sk-container-id-1 div.sk-parallel-item:first-child::after {align-self: flex-end;width: 50%;}#sk-container-id-1 div.sk-parallel-item:last-child::after {align-self: flex-start;width: 50%;}#sk-container-id-1 div.sk-parallel-item:only-child::after {width: 0;}#sk-container-id-1 div.sk-dashed-wrapped {border: 1px dashed gray;margin: 0 0.4em 0.5em 0.4em;box-sizing: border-box;padding-bottom: 0.4em;background-color: white;}#sk-container-id-1 div.sk-label label {font-family: monospace;font-weight: bold;display: inline-block;line-height: 1.2em;}#sk-container-id-1 div.sk-label-container {text-align: center;}#sk-container-id-1 div.sk-container {/* jupyter's `normalize.less` sets `[hidden] { display: none; }` but bootstrap.min.css set `[hidden] { display: none !important; }` so we also need the `!important` here to be able to override the default hidden behavior on the sphinx rendered scikit-learn.org. See: https://github.com/scikit-learn/scikit-learn/issues/21755 */display: inline-block !important;position: relative;}#sk-container-id-1 div.sk-text-repr-fallback {display: none;}</style><div id=\"sk-container-id-1\" class=\"sk-top-container\"><div class=\"sk-text-repr-fallback\"><pre>MinMaxScaler()</pre><b>In a Jupyter environment, please rerun this cell to show the HTML representation or trust the notebook. <br />On GitHub, the HTML representation is unable to render, please try loading this page with nbviewer.org.</b></div><div class=\"sk-container\" hidden><div class=\"sk-item\"><div class=\"sk-estimator sk-toggleable\"><input class=\"sk-toggleable__control sk-hidden--visually\" id=\"sk-estimator-id-1\" type=\"checkbox\" checked><label for=\"sk-estimator-id-1\" class=\"sk-toggleable__label sk-toggleable__label-arrow\">MinMaxScaler</label><div class=\"sk-toggleable__content\"><pre>MinMaxScaler()</pre></div></div></div></div></div>"
      ],
      "text/plain": [
       "MinMaxScaler()"
      ]
     },
     "execution_count": 19,
     "metadata": {},
     "output_type": "execute_result"
    }
   ],
   "source": [
    "scaler.fit(X_train[[column for column in X_column_names]])"
   ]
  },
  {
   "cell_type": "code",
   "execution_count": 20,
   "id": "33a1fdf9",
   "metadata": {},
   "outputs": [],
   "source": [
    "X_train[[column for column in X_column_names]] = scaler.transform(X_train)"
   ]
  },
  {
   "cell_type": "code",
   "execution_count": 21,
   "id": "9228ac1e",
   "metadata": {},
   "outputs": [],
   "source": [
    "X_test[[column for column in X_column_names]] = scaler.transform(X_test)"
   ]
  },
  {
   "cell_type": "markdown",
   "id": "183109ed",
   "metadata": {},
   "source": [
    "# Feature Selection"
   ]
  },
  {
   "cell_type": "markdown",
   "id": "24f4ec8f",
   "metadata": {},
   "source": [
    "## Feature Selection Using Mutual Information Gain"
   ]
  },
  {
   "cell_type": "code",
   "execution_count": 22,
   "id": "1e097170",
   "metadata": {},
   "outputs": [
    {
     "data": {
      "text/plain": [
       "array([0.25644266, 0.22083544, 0.00209321, 0.23708399, 0.21511606,\n",
       "       0.26261553, 0.26969772, 0.27600129, 0.22254981, 0.24280185,\n",
       "       0.15974435, 0.15162721])"
      ]
     },
     "execution_count": 22,
     "metadata": {},
     "output_type": "execute_result"
    }
   ],
   "source": [
    "mutual_info = mutual_info_classif(X_train, y_train)\n",
    "mutual_info"
   ]
  },
  {
   "cell_type": "code",
   "execution_count": 23,
   "id": "18616515",
   "metadata": {},
   "outputs": [],
   "source": [
    "col=X_train.columns.tolist()"
   ]
  },
  {
   "cell_type": "code",
   "execution_count": 24,
   "id": "35ad6c28",
   "metadata": {},
   "outputs": [
    {
     "data": {
      "text/plain": [
       "{'FQDN_count': 0.25644266318655085,\n",
       " 'subdomain_length': 0.22083544112159448,\n",
       " 'upper': 0.0020932064427401365,\n",
       " 'lower': 0.2370839929696389,\n",
       " 'numeric': 0.2151160624712023,\n",
       " 'entropy': 0.262615533625824,\n",
       " 'special': 0.26969771642915163,\n",
       " 'labels': 0.2760012874949169,\n",
       " 'labels_max': 0.22254980728069418,\n",
       " 'labels_average': 0.242801853693992,\n",
       " 'len': 0.159744346541715,\n",
       " 'subdomain': 0.15162720948257014}"
      ]
     },
     "execution_count": 24,
     "metadata": {},
     "output_type": "execute_result"
    }
   ],
   "source": [
    "mutual_info = dict(zip(col, mutual_info))\n",
    "mutual_info"
   ]
  },
  {
   "cell_type": "code",
   "execution_count": 25,
   "id": "f3c1174c",
   "metadata": {},
   "outputs": [
    {
     "data": {
      "text/plain": [
       "<AxesSubplot:>"
      ]
     },
     "execution_count": 25,
     "metadata": {},
     "output_type": "execute_result"
    },
    {
     "data": {
      "image/png": "[encoded data removed]",
      "text/plain": [
       "<Figure size 2000x800 with 1 Axes>"
      ]
     },
     "metadata": {},
     "output_type": "display_data"
    }
   ],
   "source": [
    "#let's plot the ordered mutual_info values per feature\n",
    "bar_ind = pd.Series(mutual_info)\n",
    "bar_ind.sort_values(ascending=False).plot.bar(figsize=(20, 8))"
   ]
  },
  {
   "cell_type": "code",
   "execution_count": 26,
   "id": "94408bae",
   "metadata": {},
   "outputs": [],
   "source": [
    "top_features = sorted(mutual_info, key=mutual_info.get, reverse=True)[:12]"
   ]
  },
  {
   "cell_type": "code",
   "execution_count": 27,
   "id": "756715a6",
   "metadata": {},
   "outputs": [
    {
     "data": {
      "text/plain": [
       "['labels',\n",
       " 'special',\n",
       " 'entropy',\n",
       " 'FQDN_count',\n",
       " 'labels_average',\n",
       " 'lower',\n",
       " 'labels_max',\n",
       " 'subdomain_length',\n",
       " 'numeric',\n",
       " 'len',\n",
       " 'subdomain',\n",
       " 'upper']"
      ]
     },
     "execution_count": 27,
     "metadata": {},
     "output_type": "execute_result"
    }
   ],
   "source": [
    "top_features"
   ]
  },
  {
   "cell_type": "markdown",
   "id": "712748eb",
   "metadata": {},
   "source": [
    "## Feature selection correlation features"
   ]
  },
  {
   "cell_type": "code",
   "execution_count": 28,
   "id": "d47b4325",
   "metadata": {},
   "outputs": [
    {
     "data": {
      "image/png": "[encoded data removed]",
      "text/plain": [
       "<Figure size 1600x600 with 2 Axes>"
      ]
     },
     "metadata": {},
     "output_type": "display_data"
    }
   ],
   "source": [
    "plt.figure(figsize=(16, 6))\n",
    "heatmap = sns.heatmap(X_train.corr(), vmin=-1, vmax=1, annot=True)\n",
    "# Give a title to the heatmap. Pad defines the distance of the title from the top of the heatmap.\n",
    "heatmap.set_title('Correlation Heatmap', fontdict={'fontsize':12}, pad=12);"
   ]
  },
  {
   "cell_type": "code",
   "execution_count": 40,
   "id": "a2fc1de1",
   "metadata": {},
   "outputs": [],
   "source": [
    "# with the following function we can select highly correlated features\n",
    "# it will remove the first feature that is correlated with anything other feature\n",
    "\n",
    "def correlation(dataset, threshold):\n",
    "    col_corr = set()  # Set of all the names of correlated columns\n",
    "    corr_matrix = dataset.corr()\n",
    "    for i in range(len(corr_matrix.columns)):\n",
    "        for j in range(i):\n",
    "            if abs(corr_matrix.iloc[i, j]) > threshold: # we are interested in absolute coeff value\n",
    "                colname = corr_matrix.columns[i]  # getting the name of column\n",
    "                col_corr.add(colname)\n",
    "    return col_corr"
   ]
  },
  {
   "cell_type": "code",
   "execution_count": 41,
   "id": "f8490de7",
   "metadata": {},
   "outputs": [
    {
     "data": {
      "text/plain": [
       "8"
      ]
     },
     "execution_count": 41,
     "metadata": {},
     "output_type": "execute_result"
    }
   ],
   "source": [
    "corr_features = correlation(X_train, 0.75)\n",
    "len(set(corr_features))"
   ]
  },
  {
   "cell_type": "markdown",
   "id": "92f055f5",
   "metadata": {},
   "source": [
    "## Top correlated feature which correaltion is higher than 75%"
   ]
  },
  {
   "cell_type": "code",
   "execution_count": 42,
   "id": "3a5f7e6c",
   "metadata": {},
   "outputs": [
    {
     "data": {
      "text/plain": [
       "{'labels',\n",
       " 'labels_average',\n",
       " 'labels_max',\n",
       " 'len',\n",
       " 'numeric',\n",
       " 'special',\n",
       " 'subdomain',\n",
       " 'subdomain_length'}"
      ]
     },
     "execution_count": 42,
     "metadata": {},
     "output_type": "execute_result"
    }
   ],
   "source": [
    "corr_features"
   ]
  },
  {
   "cell_type": "markdown",
   "id": "dd791299",
   "metadata": {},
   "source": [
    "## So by seeing the results of correaltion matrix and Mutual information gain, we can see that there are 8 features wich correlation is higher than threshold(75%) and there are 8 features which mutual information gain and absoulute coefficent value is high out of 13 features.Thus,we will conisder other 8 feature in our model."
   ]
  },
  {
   "cell_type": "code",
   "execution_count": 35,
   "id": "8fae2d45",
   "metadata": {},
   "outputs": [],
   "source": [
    "X_train = X_train.filter(['labels','labels_average','labels_max','len','numeric','special','subdomain','subdomain_length'])"
   ]
  },
  {
   "cell_type": "code",
   "execution_count": 36,
   "id": "1a1cdd28",
   "metadata": {},
   "outputs": [],
   "source": [
    "X_test = X_test.filter(['labels','labels_average','labels_max','len','numeric','special','subdomain','subdomain_length'])"
   ]
  },
  {
   "cell_type": "markdown",
   "id": "18b2282c",
   "metadata": {},
   "source": [
    "# GradientBoosting"
   ]
  },
  {
   "cell_type": "code",
   "execution_count": 37,
   "id": "8aa5c3ce",
   "metadata": {},
   "outputs": [],
   "source": [
    "gb = GradientBoostingClassifier(n_estimators=50, learning_rate=0.25, max_features=12, max_depth=4, random_state=42).fit(X_train, y_train)"
   ]
  },
  {
   "cell_type": "code",
   "execution_count": 38,
   "id": "3ce76916",
   "metadata": {},
   "outputs": [],
   "source": [
    "gby_pred = gb.predict(X_test)"
   ]
  },
  {
   "cell_type": "code",
   "execution_count": 39,
   "id": "0c4f16fb",
   "metadata": {},
   "outputs": [
    {
     "name": "stdout",
     "output_type": "stream",
     "text": [
      "Accuracy Score : 0.8282710676538744\n",
      "Precision Score : 0.7624350059512623\n",
      "Recall Score : 0.9995277789184084\n",
      "F1 Score : 0.8650295847474192\n"
     ]
    }
   ],
   "source": [
    "# Model Evaluation metrics \n",
    "print('Accuracy Score : ' + str(accuracy_score(y_test,gby_pred)))\n",
    "print('Precision Score : ' + str(precision_score(y_test,gby_pred)))\n",
    "print('Recall Score : ' + str(recall_score(y_test,gby_pred)))\n",
    "print('F1 Score : ' + str(f1_score(y_test,gby_pred)))"
   ]
  },
  {
   "cell_type": "code",
   "execution_count": 40,
   "id": "6fdbce88",
   "metadata": {},
   "outputs": [
    {
     "data": {
      "image/png": "[encoded data removed]",
      "text/plain": [
       "<Figure size 640x480 with 2 Axes>"
      ]
     },
     "metadata": {},
     "output_type": "display_data"
    }
   ],
   "source": [
    "confusion_matrix = metrics.confusion_matrix(y_test, gby_pred)\n",
    "\n",
    "cm_display = metrics.ConfusionMatrixDisplay(confusion_matrix = confusion_matrix, display_labels = [False, True])\n",
    "\n",
    "cm_display.plot()\n",
    "plt.show()"
   ]
  },
  {
   "cell_type": "markdown",
   "id": "cc16de57",
   "metadata": {},
   "source": [
    "# MLP(Multi-Layer-Perceptron)"
   ]
  },
  {
   "cell_type": "code",
   "execution_count": 41,
   "id": "442b42ab",
   "metadata": {},
   "outputs": [],
   "source": [
    "params_onlykf_mlp = {\n",
    "    'hidden_layer_sizes': [(50,50,50)],\n",
    "    'activation': ['tanh'],\n",
    "    'solver': ['adam'],\n",
    "    'alpha': [0.0001],\n",
    "    'learning_rate': ['constant'],\n",
    "    'random_state': [42]\n",
    "}"
   ]
  },
  {
   "cell_type": "code",
   "execution_count": 42,
   "id": "d10e4ebe",
   "metadata": {},
   "outputs": [],
   "source": [
    "mlp = GridSearchCV(MLPClassifier(max_iter=100), params_onlykf_mlp, n_jobs=-1).fit(X_train, y_train)"
   ]
  },
  {
   "cell_type": "code",
   "execution_count": 43,
   "id": "57b862a0",
   "metadata": {},
   "outputs": [
    {
     "data": {
      "text/plain": [
       "0.8243740572365434"
      ]
     },
     "execution_count": 43,
     "metadata": {},
     "output_type": "execute_result"
    }
   ],
   "source": [
    "mlp.best_score_"
   ]
  },
  {
   "cell_type": "code",
   "execution_count": 44,
   "id": "e9812de3",
   "metadata": {},
   "outputs": [],
   "source": [
    "mlp_pred = mlp.predict(X_test)"
   ]
  },
  {
   "cell_type": "code",
   "execution_count": 45,
   "id": "e8882b7f",
   "metadata": {},
   "outputs": [
    {
     "name": "stdout",
     "output_type": "stream",
     "text": [
      "Accuracy Score : 0.827773695811903\n",
      "Precision Score : 0.7622300918236234\n",
      "Recall Score : 0.99872705621484\n",
      "F1 Score : 0.8645977746969534\n"
     ]
    }
   ],
   "source": [
    "# Model Evaluation metrics \n",
    "print('Accuracy Score : ' + str(accuracy_score(y_test,mlp_pred)))\n",
    "print('Precision Score : ' + str(precision_score(y_test,mlp_pred)))\n",
    "print('Recall Score : ' + str(recall_score(y_test,mlp_pred)))\n",
    "print('F1 Score : ' + str(f1_score(y_test,mlp_pred)))"
   ]
  },
  {
   "cell_type": "code",
   "execution_count": 46,
   "id": "6fdbce88",
   "metadata": {},
   "outputs": [
    {
     "data": {
      "image/png": "[encoded data removed]",
      "text/plain": [
       "<Figure size 640x480 with 2 Axes>"
      ]
     },
     "metadata": {},
     "output_type": "display_data"
    }
   ],
   "source": [
    "confusion_matrix = metrics.confusion_matrix(y_test, mlp_pred)\n",
    "\n",
    "cm_display = metrics.ConfusionMatrixDisplay(confusion_matrix = confusion_matrix, display_labels = [False, True])\n",
    "\n",
    "cm_display.plot()\n",
    "plt.show()"
   ]
  },
  {
   "cell_type": "code",
   "execution_count": 47,
   "id": "e56cd3cc",
   "metadata": {},
   "outputs": [],
   "source": [
    "pickle.dump(gb, open('gb_model.pkl', 'wb'))"
   ]
  },
  {
   "cell_type": "code",
   "execution_count": 49,
   "id": "8be0ddb7",
   "metadata": {},
   "outputs": [],
   "source": [
    "pickle.dump(scaler, open('scaler.pkl', 'wb'))"
   ]
  },
  {
   "cell_type": "code",
   "execution_count": null,
   "id": "63d4b88e",
   "metadata": {},
   "outputs": [],
   "source": []
  }
 ],
 "metadata": {
  "kernelspec": {
   "display_name": "Python 3 (ipykernel)",
   "language": "python",
   "name": "python3"
  },
  "language_info": {
   "codemirror_mode": {
    "name": "ipython",
    "version": 3
   },
   "file_extension": ".py",
   "mimetype": "text/x-python",
   "name": "python",
   "nbconvert_exporter": "python",
   "pygments_lexer": "ipython3",
   "version": "3.8.8"
  }
 },
 "nbformat": 4,
 "nbformat_minor": 5
}
